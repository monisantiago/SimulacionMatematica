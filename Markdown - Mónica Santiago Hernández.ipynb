{
 "cells": [
  {
   "cell_type": "markdown",
   "id": "1a82a1e3",
   "metadata": {},
   "source": [
    "# Simulación Matemática\n",
    "## Presentación Personal\n",
    "### Mónica Santiago Hernández"
   ]
  },
  {
   "cell_type": "markdown",
   "id": "77ec9c13",
   "metadata": {},
   "source": [
    "#### **Información Personal**\n",
    "\n",
    "Mi nombre es Mónica Santiago Hernández, actualmente estoy terminando mi carrera de *Arquitectura* y a mitad de la carrera de *Ingenería Civil*. Tengo 24 años y siempre me ha encantado todo lo relacionado con la construcción y todo lo que se puede crear. Me intereso estudiar ambas carreras ya que para mi parecer la carrera de *Arquitectura* no te aporta todo lo necesario para estar completamente preparado, y me interesa tanto el hecho de proyectar como el realizar y hacer el seguimiento del proyecto. Me encanta el fútbol, tenis y todo lo que tenga que ver con deportes, me gusta tanto verlos como jugarlos. \n",
    "\n"
   ]
  },
  {
   "cell_type": "markdown",
   "id": "26d98530",
   "metadata": {},
   "source": [
    "![](data:image/jpeg;base64,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)"
   ]
  },
  {
   "cell_type": "markdown",
   "id": "bd2db36a",
   "metadata": {},
   "source": [
    "#### **Ingeniería Civil**\n",
    "\n",
    "Lo que más me gusta de mi carrera es: \n",
    "\n",
    "- Proyectar.\n",
    "    1. Empezando por el concepto y lo que se tiene que generar.\n",
    "    2. Conocer al cliente y sus necesidades. \n",
    "    3. Empezar con los bosquejos. \n",
    "    4. Tener una idea clara de los espacios y las divisiones que se tienen que hacer. \n",
    "    5. Hacer un proyecto arquitectónico.\n",
    "    6. Hacer un proyecto ejecutivo. \n",
    "    7. Construir. \n",
    "- Hacer el desglose de la obra y los materiales necesarios.\n",
    "- Sacar costos para el proyecto. \n",
    "- Hacer un desglose de los materiales que se necesitan. \n",
    "\n"
   ]
  },
  {
   "cell_type": "markdown",
   "id": "9606f6ee",
   "metadata": {},
   "source": [
    "#### **Tema de interés**\n",
    "##### Evaluación de Proyectos\n",
    "\n",
    "\n",
    "Un tema de mi gran interés es la evaluación de proyectos y todo lo que conlleva. Primero, \"la evaluación de un proyecto es el proceso de identificar, cuantificar y valorar los costos y beneficios que se generen de éste, en un determinado periodo de tiempo.\" Esto tiene de objetivo, determinar si la ejecución del proyecto es conveniente para llevarla a cabo o si se tiene que replantear el proyecto, así como los costos. La evaluación de proyecto, de igual manera es un desglose de toda la información, tanto para poder vender dependiendo de para que sea usado y los costos que cada metro cuadrado tiene que tener para que se vuelva factible la construcción, así como el costo de los materiales. El hacer la evaluación de proyectos es importante ya que te da una idea de todo el proceso y los ingresos así como los egresos que vas a tener a lo largo de tu construcción, así como al momento de comenzar a vender.\n"
   ]
  },
  {
   "cell_type": "markdown",
   "id": "30eb6d2b",
   "metadata": {},
   "source": [
    "**Ecuación en línea**\n",
    "$ y = 4x + 6 $\n"
   ]
  },
  {
   "cell_type": "code",
   "execution_count": null,
   "id": "b794ff90",
   "metadata": {},
   "outputs": [],
   "source": []
  }
 ],
 "metadata": {
  "kernelspec": {
   "display_name": "Python 3 (ipykernel)",
   "language": "python",
   "name": "python3"
  },
  "language_info": {
   "codemirror_mode": {
    "name": "ipython",
    "version": 3
   },
   "file_extension": ".py",
   "mimetype": "text/x-python",
   "name": "python",
   "nbconvert_exporter": "python",
   "pygments_lexer": "ipython3",
   "version": "3.9.12"
  }
 },
 "nbformat": 4,
 "nbformat_minor": 5
}
